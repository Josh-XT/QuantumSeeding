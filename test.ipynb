{
 "cells": [
  {
   "cell_type": "code",
   "execution_count": null,
   "metadata": {},
   "outputs": [],
   "source": [
    "%pip install quantumseeding"
   ]
  },
  {
   "cell_type": "code",
   "execution_count": 1,
   "metadata": {},
   "outputs": [
    {
     "name": "stdout",
     "output_type": "stream",
     "text": [
      "Using Quantum Computer Simulator\n",
      "Quantum Circuit:\n",
      "      ┌───┐          ┌─┐                                      \n",
      "q0_0: ┤ H ├──■───────┤M├──────────────────────────────────────\n",
      "      ├───┤┌─┴─┐     └╥┘     ┌─┐                              \n",
      "q0_1: ┤ H ├┤ X ├──■───╫──────┤M├──────────────────────────────\n",
      "      ├───┤└───┘┌─┴─┐ ║      └╥┘     ┌─┐                      \n",
      "q0_2: ┤ H ├─────┤ X ├─╫───■───╫──────┤M├──────────────────────\n",
      "      ├───┤     └───┘ ║ ┌─┴─┐ ║      └╥┘     ┌─┐              \n",
      "q0_3: ┤ H ├───────────╫─┤ X ├─╫───■───╫──────┤M├──────────────\n",
      "      ├───┤           ║ └───┘ ║ ┌─┴─┐ ║      └╥┘     ┌─┐      \n",
      "q0_4: ┤ H ├───────────╫───────╫─┤ X ├─╫───■───╫──────┤M├──────\n",
      "      ├───┤           ║       ║ └───┘ ║ ┌─┴─┐ ║      └╥┘┌─┐   \n",
      "q0_5: ┤ H ├───────────╫───────╫───────╫─┤ X ├─╫───■───╫─┤M├───\n",
      "      ├───┤           ║       ║       ║ └───┘ ║ ┌─┴─┐ ║ └╥┘┌─┐\n",
      "q0_6: ┤ H ├───────────╫───────╫───────╫───────╫─┤ X ├─╫──╫─┤M├\n",
      "      └───┘           ║       ║       ║       ║ └───┘ ║  ║ └╥┘\n",
      "c0: 7/════════════════╩═══════╩═══════╩═══════╩═══════╩══╩══╩═\n",
      "                      0       1       2       3       4  5  6 \n",
      "Your job is number 1 in the queue on qasm_simulator.  Please wait...\n",
      "COMPLETED in 0.0009665489196777344 seconds on qasm_simulator\n",
      "The probable result was 1001110 with 1.7578125% probability\n",
      "16192966501194651745600587711218019325348627000285505572138281431673706922276752101907501424875204445582983451466156742244001971628466604761356256067\n"
     ]
    }
   ],
   "source": [
    "from quantumseeding import quantumseed\n",
    "from dotenv import load_dotenv\n",
    "import os\n",
    "\n",
    "load_dotenv()\n",
    "\n",
    "ibm_token = os.getenv(\"IBM_TOKEN\", None)  # https://quantum-computing.ibm.com/account\n",
    "\n",
    "seed = quantumseed(ibm_token=ibm_token, qubits=7, simulation=True, verbose=True)\n",
    "print(seed)"
   ]
  }
 ],
 "metadata": {
  "kernelspec": {
   "display_name": "Python 3",
   "language": "python",
   "name": "python3"
  },
  "language_info": {
   "codemirror_mode": {
    "name": "ipython",
    "version": 3
   },
   "file_extension": ".py",
   "mimetype": "text/x-python",
   "name": "python",
   "nbconvert_exporter": "python",
   "pygments_lexer": "ipython3",
   "version": "3.10.12"
  }
 },
 "nbformat": 4,
 "nbformat_minor": 2
}
