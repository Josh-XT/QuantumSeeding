{
 "cells": [
  {
   "cell_type": "code",
   "execution_count": 1,
   "metadata": {},
   "outputs": [
    {
     "name": "stdout",
     "output_type": "stream",
     "text": [
      "Defaulting to user installation because normal site-packages is not writeable\n",
      "Requirement already satisfied: quantumseeding in /home/josh/.local/lib/python3.10/site-packages (0.0.3)\n",
      "Requirement already satisfied: qiskit in /home/josh/.local/lib/python3.10/site-packages (from quantumseeding) (0.42.1)\n",
      "Requirement already satisfied: qiskit-aer==0.12.0 in /home/josh/.local/lib/python3.10/site-packages (from qiskit->quantumseeding) (0.12.0)\n",
      "Requirement already satisfied: qiskit-ibmq-provider==0.20.2 in /home/josh/.local/lib/python3.10/site-packages (from qiskit->quantumseeding) (0.20.2)\n",
      "Requirement already satisfied: qiskit-terra==0.23.3 in /home/josh/.local/lib/python3.10/site-packages (from qiskit->quantumseeding) (0.23.3)\n",
      "Requirement already satisfied: numpy>=1.16.3 in /home/josh/.local/lib/python3.10/site-packages (from qiskit-aer==0.12.0->qiskit->quantumseeding) (1.23.5)\n",
      "Requirement already satisfied: scipy>=1.0 in /home/josh/.local/lib/python3.10/site-packages (from qiskit-aer==0.12.0->qiskit->quantumseeding) (1.11.2)\n",
      "Requirement already satisfied: requests>=2.19 in /home/josh/.local/lib/python3.10/site-packages (from qiskit-ibmq-provider==0.20.2->qiskit->quantumseeding) (2.31.0)\n",
      "Requirement already satisfied: requests-ntlm<=1.1.0 in /home/josh/.local/lib/python3.10/site-packages (from qiskit-ibmq-provider==0.20.2->qiskit->quantumseeding) (1.1.0)\n",
      "Requirement already satisfied: urllib3>=1.21.1 in /home/josh/.local/lib/python3.10/site-packages (from qiskit-ibmq-provider==0.20.2->qiskit->quantumseeding) (1.26.16)\n",
      "Requirement already satisfied: python-dateutil>=2.8.0 in /usr/local/lib/python3.10/dist-packages (from qiskit-ibmq-provider==0.20.2->qiskit->quantumseeding) (2.8.2)\n",
      "Requirement already satisfied: websocket-client>=1.5.1 in /home/josh/.local/lib/python3.10/site-packages (from qiskit-ibmq-provider==0.20.2->qiskit->quantumseeding) (1.6.3)\n",
      "Requirement already satisfied: websockets>=10.0 in /home/josh/.local/lib/python3.10/site-packages (from qiskit-ibmq-provider==0.20.2->qiskit->quantumseeding) (11.0.2)\n",
      "Requirement already satisfied: rustworkx>=0.12.0 in /home/josh/.local/lib/python3.10/site-packages (from qiskit-terra==0.23.3->qiskit->quantumseeding) (0.12.1)\n",
      "Requirement already satisfied: ply>=3.10 in /home/josh/.local/lib/python3.10/site-packages (from qiskit-terra==0.23.3->qiskit->quantumseeding) (3.11)\n",
      "Requirement already satisfied: psutil>=5 in /home/josh/.local/lib/python3.10/site-packages (from qiskit-terra==0.23.3->qiskit->quantumseeding) (5.9.5)\n",
      "Requirement already satisfied: sympy>=1.3 in /home/josh/.local/lib/python3.10/site-packages (from qiskit-terra==0.23.3->qiskit->quantumseeding) (1.12)\n",
      "Requirement already satisfied: dill>=0.3 in /home/josh/.local/lib/python3.10/site-packages (from qiskit-terra==0.23.3->qiskit->quantumseeding) (0.3.7)\n",
      "Requirement already satisfied: stevedore>=3.0.0 in /home/josh/.local/lib/python3.10/site-packages (from qiskit-terra==0.23.3->qiskit->quantumseeding) (5.0.0)\n",
      "Requirement already satisfied: symengine>=0.9 in /home/josh/.local/lib/python3.10/site-packages (from qiskit-terra==0.23.3->qiskit->quantumseeding) (0.10.0)\n",
      "Requirement already satisfied: six>=1.5 in /usr/lib/python3/dist-packages (from python-dateutil>=2.8.0->qiskit-ibmq-provider==0.20.2->qiskit->quantumseeding) (1.16.0)\n",
      "Requirement already satisfied: charset-normalizer<4,>=2 in /home/josh/.local/lib/python3.10/site-packages (from requests>=2.19->qiskit-ibmq-provider==0.20.2->qiskit->quantumseeding) (2.1.1)\n",
      "Requirement already satisfied: idna<4,>=2.5 in /home/josh/.local/lib/python3.10/site-packages (from requests>=2.19->qiskit-ibmq-provider==0.20.2->qiskit->quantumseeding) (3.4)\n",
      "Requirement already satisfied: certifi>=2017.4.17 in /home/josh/.local/lib/python3.10/site-packages (from requests>=2.19->qiskit-ibmq-provider==0.20.2->qiskit->quantumseeding) (2022.12.7)\n",
      "Requirement already satisfied: ntlm-auth>=1.0.2 in /home/josh/.local/lib/python3.10/site-packages (from requests-ntlm<=1.1.0->qiskit-ibmq-provider==0.20.2->qiskit->quantumseeding) (1.5.0)\n",
      "Requirement already satisfied: cryptography>=1.3 in /home/josh/.local/lib/python3.10/site-packages (from requests-ntlm<=1.1.0->qiskit-ibmq-provider==0.20.2->qiskit->quantumseeding) (41.0.4)\n",
      "Requirement already satisfied: pbr!=2.1.0,>=2.0.0 in /home/josh/.local/lib/python3.10/site-packages (from stevedore>=3.0.0->qiskit-terra==0.23.3->qiskit->quantumseeding) (5.11.1)\n",
      "Requirement already satisfied: mpmath>=0.19 in /home/josh/.local/lib/python3.10/site-packages (from sympy>=1.3->qiskit-terra==0.23.3->qiskit->quantumseeding) (1.3.0)\n",
      "Requirement already satisfied: cffi>=1.12 in /usr/local/lib/python3.10/dist-packages (from cryptography>=1.3->requests-ntlm<=1.1.0->qiskit-ibmq-provider==0.20.2->qiskit->quantumseeding) (1.15.1)\n",
      "Requirement already satisfied: pycparser in /usr/local/lib/python3.10/dist-packages (from cffi>=1.12->cryptography>=1.3->requests-ntlm<=1.1.0->qiskit-ibmq-provider==0.20.2->qiskit->quantumseeding) (2.21)\n",
      "\u001b[33mDEPRECATION: nb-black 1.0.7 has a non-standard dependency specifier black>='19.3'; python_version >= \"3.6\". pip 24.0 will enforce this behaviour change. A possible replacement is to upgrade to a newer version of nb-black or contact the author to suggest that they release a version with a conforming dependency specifiers. Discussion can be found at https://github.com/pypa/pip/issues/12063\u001b[0m\u001b[33m\n",
      "\u001b[0mNote: you may need to restart the kernel to use updated packages.\n"
     ]
    }
   ],
   "source": [
    "%pip install quantumseeding"
   ]
  },
  {
   "cell_type": "code",
   "execution_count": 2,
   "metadata": {},
   "outputs": [
    {
     "name": "stdout",
     "output_type": "stream",
     "text": [
      "Using Quantum Computer Simulator\n",
      "Quantum Circuit:\n",
      "      ┌───┐          ┌─┐                                      \n",
      "q0_0: ┤ H ├──■───────┤M├──────────────────────────────────────\n",
      "      ├───┤┌─┴─┐     └╥┘     ┌─┐                              \n",
      "q0_1: ┤ H ├┤ X ├──■───╫──────┤M├──────────────────────────────\n",
      "      ├───┤└───┘┌─┴─┐ ║      └╥┘     ┌─┐                      \n",
      "q0_2: ┤ H ├─────┤ X ├─╫───■───╫──────┤M├──────────────────────\n",
      "      ├───┤     └───┘ ║ ┌─┴─┐ ║      └╥┘     ┌─┐              \n",
      "q0_3: ┤ H ├───────────╫─┤ X ├─╫───■───╫──────┤M├──────────────\n",
      "      ├───┤           ║ └───┘ ║ ┌─┴─┐ ║      └╥┘     ┌─┐      \n",
      "q0_4: ┤ H ├───────────╫───────╫─┤ X ├─╫───■───╫──────┤M├──────\n",
      "      ├───┤           ║       ║ └───┘ ║ ┌─┴─┐ ║      └╥┘┌─┐   \n",
      "q0_5: ┤ H ├───────────╫───────╫───────╫─┤ X ├─╫───■───╫─┤M├───\n",
      "      ├───┤           ║       ║       ║ └───┘ ║ ┌─┴─┐ ║ └╥┘┌─┐\n",
      "q0_6: ┤ H ├───────────╫───────╫───────╫───────╫─┤ X ├─╫──╫─┤M├\n",
      "      └───┘           ║       ║       ║       ║ └───┘ ║  ║ └╥┘\n",
      "c0: 7/════════════════╩═══════╩═══════╩═══════╩═══════╩══╩══╩═\n",
      "                      0       1       2       3       4  5  6 \n",
      "Your job is number 1 in the queue on qasm_simulator.  Please wait...\n",
      "COMPLETED in 0.0009989738464355469 seconds on qasm_simulator\n",
      "The probable result was 1100011 with 0.1953125% probability\n",
      "59346401205379048183021089403153238115771681345348930980876012311109200212807701266341304188277598393653451825955154307798862663763849630474429674177587\n"
     ]
    }
   ],
   "source": [
    "from quantumseeding import QuantumSeeding\n",
    "from dotenv import load_dotenv\n",
    "import os\n",
    "\n",
    "load_dotenv()\n",
    "\n",
    "ibm_token = os.getenv(\"IBM_TOKEN\", None)  # https://quantum-computing.ibm.com/account\n",
    "\n",
    "seed = QuantumSeeding(\n",
    "    ibm_token=ibm_token,\n",
    "    max_qubits=7,\n",
    "    verbose=True,\n",
    "    simulation=True,\n",
    ").get_seed()\n",
    "print(seed)"
   ]
  }
 ],
 "metadata": {
  "kernelspec": {
   "display_name": "Python 3",
   "language": "python",
   "name": "python3"
  },
  "language_info": {
   "codemirror_mode": {
    "name": "ipython",
    "version": 3
   },
   "file_extension": ".py",
   "mimetype": "text/x-python",
   "name": "python",
   "nbconvert_exporter": "python",
   "pygments_lexer": "ipython3",
   "version": "3.10.12"
  }
 },
 "nbformat": 4,
 "nbformat_minor": 2
}
